{
 "cells": [
  {
   "cell_type": "code",
   "execution_count": 4,
   "id": "fb33c5ad-00ef-4611-9cea-38bf971bb63d",
   "metadata": {},
   "outputs": [
    {
     "name": "stdout",
     "output_type": "stream",
     "text": [
      "\n",
      "Shape of Signal: (645632,)\n",
      "Signal Datatype: int16\n",
      "Signal duration: 40.35 seconds\n"
     ]
    },
    {
     "name": "stderr",
     "output_type": "stream",
     "text": [
      "/tmp/ipykernel_24547/2029859453.py:4: WavFileWarning: Chunk (non-data) not understood, skipping it.\n",
      "  freq_sample, sig_audio = wavfile.read(\"Welcome.wav\")# Output the parameters: Signal Data Type, Sampling Frequency and Duration\n"
     ]
    },
    {
     "data": {
      "text/plain": [
       "[<matplotlib.lines.Line2D at 0x7f8aa410f610>]"
      ]
     },
     "execution_count": 4,
     "metadata": {},
     "output_type": "execute_result"
    },
    {
     "data": {
      "image/png": "[encoded data removed]",
      "text/plain": [
       "<Figure size 432x288 with 1 Axes>"
      ]
     },
     "metadata": {
      "needs_background": "light"
     },
     "output_type": "display_data"
    }
   ],
   "source": [
    "from scipy.io import wavfile\n",
    "import numpy as np\n",
    "import matplotlib.pyplot as plt \n",
    "freq_sample, sig_audio = wavfile.read(\"Welcome.wav\")# Output the parameters: Signal Data Type, Sampling Frequency and Duration\n",
    "print('\\nShape of Signal:', sig_audio.shape)\n",
    "print('Signal Datatype:', sig_audio.dtype)\n",
    "print('Signal duration:', round(sig_audio.shape[0] / float(freq_sample), 2), 'seconds')\n",
    "pow_audio_signal = sig_audio / np.power(2, 15)\n",
    "pow_audio_signal = pow_audio_signal [:100]\n",
    "time_axis = 1000 * np.arange(0, len(pow_audio_signal), 1) / float(freq_sample)\n",
    "plt.plot(time_axis, pow_audio_signal, color='blue')"
   ]
  }
 ],
 "metadata": {
  "kernelspec": {
   "display_name": "Python 3 (ipykernel)",
   "language": "python",
   "name": "python3"
  },
  "language_info": {
   "codemirror_mode": {
    "name": "ipython",
    "version": 3
   },
   "file_extension": ".py",
   "mimetype": "text/x-python",
   "name": "python",
   "nbconvert_exporter": "python",
   "pygments_lexer": "ipython3",
   "version": "3.10.3"
  }
 },
 "nbformat": 4,
 "nbformat_minor": 5
}
